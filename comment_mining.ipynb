{
 "cells": [
  {
   "cell_type": "markdown",
   "id": "d333515a",
   "metadata": {},
   "source": [
    "<h1 align=center style=\"line-height:200%;font-family:vazir;color:#0099cc\">\n",
    "<font face=\"vazir\" color=\"#0099cc\">Analyzing the comments of DigiKala\n",
    "</font>\n",
    "</h1>"
   ]
  },
  {
   "cell_type": "markdown",
   "id": "d7628ff7",
   "metadata": {},
   "source": [
    "In this project, by converting each comment into its tokens and obtaining the frequency of each word in each class, we determined the comments that talked about the price."
   ]
  },
  {
   "cell_type": "code",
   "execution_count": 1,
   "id": "99450f9e",
   "metadata": {},
   "outputs": [],
   "source": [
    "import numpy as np\n",
    "import pandas as pd\n",
    "from sklearn.metrics import accuracy_score"
   ]
  },
  {
   "cell_type": "code",
   "execution_count": 2,
   "id": "7dcb9e87",
   "metadata": {},
   "outputs": [
    {
     "data": {
      "text/html": [
       "<div>\n",
       "<style scoped>\n",
       "    .dataframe tbody tr th:only-of-type {\n",
       "        vertical-align: middle;\n",
       "    }\n",
       "\n",
       "    .dataframe tbody tr th {\n",
       "        vertical-align: top;\n",
       "    }\n",
       "\n",
       "    .dataframe thead th {\n",
       "        text-align: right;\n",
       "    }\n",
       "</style>\n",
       "<table border=\"1\" class=\"dataframe\">\n",
       "  <thead>\n",
       "    <tr style=\"text-align: right;\">\n",
       "      <th></th>\n",
       "      <th>comment</th>\n",
       "      <th>price_value</th>\n",
       "    </tr>\n",
       "  </thead>\n",
       "  <tbody>\n",
       "    <tr>\n",
       "      <th>0</th>\n",
       "      <td>قیمت مناسب وکیفیت خوب پیشنهادمیکنم حتما خرید کنید</td>\n",
       "      <td>1</td>\n",
       "    </tr>\n",
       "    <tr>\n",
       "      <th>1</th>\n",
       "      <td>به اندازه یک میلیمتر دورتادور گوشی خالی میماند...</td>\n",
       "      <td>0</td>\n",
       "    </tr>\n",
       "    <tr>\n",
       "      <th>2</th>\n",
       "      <td>از همه نظر عالی و یک خرید خوب در  قیمت حدود۴۰ ...</td>\n",
       "      <td>1</td>\n",
       "    </tr>\n",
       "    <tr>\n",
       "      <th>3</th>\n",
       "      <td>فقط یک بار هر یک ربع ساعت 1 درصد شارژ کرد بعدش...</td>\n",
       "      <td>0</td>\n",
       "    </tr>\n",
       "    <tr>\n",
       "      <th>4</th>\n",
       "      <td>قیمت این کالا خیلی تغییر میکنه . من خریدم چندر...</td>\n",
       "      <td>1</td>\n",
       "    </tr>\n",
       "    <tr>\n",
       "      <th>...</th>\n",
       "      <td>...</td>\n",
       "      <td>...</td>\n",
       "    </tr>\n",
       "    <tr>\n",
       "      <th>39995</th>\n",
       "      <td>خیلی خوبه واسه گوشی m20ولی یه ترک از پایین داش...</td>\n",
       "      <td>0</td>\n",
       "    </tr>\n",
       "    <tr>\n",
       "      <th>39996</th>\n",
       "      <td>چند روزه دارم استفاده میکنم در یک کلام عالیه\\r...</td>\n",
       "      <td>1</td>\n",
       "    </tr>\n",
       "    <tr>\n",
       "      <th>39997</th>\n",
       "      <td>من سی تومن خریدم و با توجه به قیمت ارزش خرید د...</td>\n",
       "      <td>1</td>\n",
       "    </tr>\n",
       "    <tr>\n",
       "      <th>39998</th>\n",
       "      <td>عالیه از هر نظر \\nهم قیمتش کمه \\nهم قطعاتش زیا...</td>\n",
       "      <td>0</td>\n",
       "    </tr>\n",
       "    <tr>\n",
       "      <th>39999</th>\n",
       "      <td>من برای داخل ماشین جاهای که دست نمیره خریدم یه...</td>\n",
       "      <td>0</td>\n",
       "    </tr>\n",
       "  </tbody>\n",
       "</table>\n",
       "<p>40000 rows × 2 columns</p>\n",
       "</div>"
      ],
      "text/plain": [
       "                                                 comment  price_value\n",
       "0      قیمت مناسب وکیفیت خوب پیشنهادمیکنم حتما خرید کنید            1\n",
       "1      به اندازه یک میلیمتر دورتادور گوشی خالی میماند...            0\n",
       "2      از همه نظر عالی و یک خرید خوب در  قیمت حدود۴۰ ...            1\n",
       "3      فقط یک بار هر یک ربع ساعت 1 درصد شارژ کرد بعدش...            0\n",
       "4      قیمت این کالا خیلی تغییر میکنه . من خریدم چندر...            1\n",
       "...                                                  ...          ...\n",
       "39995  خیلی خوبه واسه گوشی m20ولی یه ترک از پایین داش...            0\n",
       "39996  چند روزه دارم استفاده میکنم در یک کلام عالیه\\r...            1\n",
       "39997  من سی تومن خریدم و با توجه به قیمت ارزش خرید د...            1\n",
       "39998  عالیه از هر نظر \\nهم قیمتش کمه \\nهم قطعاتش زیا...            0\n",
       "39999  من برای داخل ماشین جاهای که دست نمیره خریدم یه...            0\n",
       "\n",
       "[40000 rows x 2 columns]"
      ]
     },
     "execution_count": 2,
     "metadata": {},
     "output_type": "execute_result"
    }
   ],
   "source": [
    "train_data = pd.read_csv('../data/train.csv')\n",
    "train_data"
   ]
  },
  {
   "cell_type": "code",
   "execution_count": 3,
   "id": "adb6ba5a",
   "metadata": {},
   "outputs": [],
   "source": [
    "test_data = pd.read_csv('../data/test.csv')"
   ]
  },
  {
   "attachments": {},
   "cell_type": "markdown",
   "id": "edd8b41c",
   "metadata": {},
   "source": [
    "<h2 align=center style=\"line-height:200%;font-family:vazir;color:#0099cc\">\n",
    "<font face=\"vazir\" color=\"#0099cc\">\n",
    "Data Preparing and Feature Engineering\n",
    "</font>\n",
    "</h2>\n",
    "\n"
   ]
  },
  {
   "cell_type": "markdown",
   "id": "396edc5a",
   "metadata": {},
   "source": [
    "for converting each comment into a set of tokens we use hazm library."
   ]
  },
  {
   "cell_type": "code",
   "execution_count": 4,
   "id": "3cb9c510",
   "metadata": {},
   "outputs": [],
   "source": [
    "from hazm import Normalizer, Stemmer, word_tokenize, stopwords_list, Lemmatizer\n",
    "def is_not_number(s):\n",
    "    try:\n",
    "        float(s)\n",
    "        return False\n",
    "    except ValueError:\n",
    "        return True\n",
    "def preprocessing(text):\n",
    "    stopwords = stopwords_list()\n",
    "    stemmer = Stemmer()\n",
    "    text=stemmer.stem(text)\n",
    "    text=word_tokenize(text)\n",
    "    text= [item for item in text if item not in stopwords and is_not_number(item)]\n",
    "    return text"
   ]
  },
  {
   "cell_type": "markdown",
   "id": "40eb5df5",
   "metadata": {},
   "source": [
    "<h2 align=center style=\"line-height:200%;font-family:vazir;color:#0099cc\">\n",
    "<font face=\"vazir\" color=\"#0099cc\">\n",
    "Learning Model\n",
    "</font>\n",
    "</h2>\n"
   ]
  },
  {
   "cell_type": "markdown",
   "id": "7462d3f7",
   "metadata": {},
   "source": [
    "We use conditional probability to train the model. In this way, you first get the conditional probability of occurrence of each token in each class"
   ]
  },
  {
   "cell_type": "code",
   "execution_count": 5,
   "id": "97a1ff35",
   "metadata": {},
   "outputs": [
    {
     "data": {
      "text/plain": [
       "{0: 0.520025, 1: 0.479975}"
      ]
     },
     "execution_count": 5,
     "metadata": {},
     "output_type": "execute_result"
    }
   ],
   "source": [
    "p0 = ((train_data['price_value'] == 0).sum())/(train_data['price_value'].size)\n",
    "p1 = ((train_data['price_value'] == 1).sum())/(train_data['price_value'].size)\n",
    "prior_probability = {0: p0, 1:p1}\n",
    "\n",
    "prior_probability"
   ]
  },
  {
   "cell_type": "code",
   "execution_count": 6,
   "id": "c22875e6",
   "metadata": {},
   "outputs": [],
   "source": [
    "def token_counter(texts):\n",
    "    count_dict = {}\n",
    "    for txt in texts:\n",
    "        text=preprocessing(txt)\n",
    "        for word in text:\n",
    "            if word in count_dict:    \n",
    "                count_dict[word] = count_dict[word] + 1\n",
    "            else:\n",
    "                count_dict[word] = 1\n",
    "    return count_dict\n",
    "    \n"
   ]
  },
  {
   "cell_type": "code",
   "execution_count": 7,
   "id": "fac4a27b",
   "metadata": {},
   "outputs": [],
   "source": [
    "nc = train_data[train_data['price_value']== 0]\n",
    "negative_class_count = token_counter(nc['comment'])"
   ]
  },
  {
   "cell_type": "code",
   "execution_count": 8,
   "id": "9e004f72",
   "metadata": {},
   "outputs": [],
   "source": [
    "pc = train_data[train_data['price_value']== 1]\n",
    "positive_class_count =  token_counter(pc['comment'])"
   ]
  },
  {
   "cell_type": "markdown",
   "id": "41fb0976",
   "metadata": {},
   "source": [
    "In order to calculate the probability of a class under the condition of viewing a text (a list of tokens) according to the idea of ​​the simple Bayes algorithm, it is enough to calculate the probability of occurrence of each of its components (here tokens) under the condition of that class and multiply each other. Finally, we will multiply the result by the probability of that class. That is, we will have:"
   ]
  },
  {
   "cell_type": "markdown",
   "id": "d5bc1b77",
   "metadata": {},
   "source": [
    "$P(class|t_1, t_2, ..., t_n)=P(t_1, t_2, ..., t_n|class)\\times P(class)=P(t_1|class)\\times P(t_2|class)\\times ...\\times P(t_n|class)\\times P(class)$"
   ]
  },
  {
   "cell_type": "markdown",
   "id": "61c598f7",
   "metadata": {},
   "source": [
    "To calculate the probability of the occurrence of each token under the condition of a class, we can divide the number of token occurrences among the texts of that class by the total occurrence of tokens in the texts of that class."
   ]
  },
  {
   "cell_type": "markdown",
   "id": "01851508",
   "metadata": {},
   "source": [
    "$\\large P(w_i|class)=\\frac{count(t_i, class)}{\\sum_{t \\in V}{count(t, class)}}$"
   ]
  },
  {
   "cell_type": "markdown",
   "id": "fe469b76",
   "metadata": {},
   "source": [
    "Calculate the probability of each token in a class, but that token has not been seen so far and the number of occurrences is zero. In this case, the probability of the token becomes zero according to the class condition, and when this number is multiplied by the probability of other tokens, the result becomes zero.\n",
    "\n",
    "In order to solve this problem, an idea called add-1 smoothing is proposed, which says that the number of occurrences of a word that has not been seen so far should be considered equal to one instead of zero. In order to apply this change, it is necessary to add one unit to the number of repetitions of all tokens, and in order not to mix the ratios, it is necessary to put the size of the dictionary in the denominator of the fraction. The meaning of the dictionary, which we denote by V in the formula, is all the unique tokens available. That is, you have to combine the tokens in the dictionary of all classes and get unique items. By applying the described changes, we will finally reach the following formula:"
   ]
  },
  {
   "cell_type": "markdown",
   "id": "5190c063",
   "metadata": {},
   "source": [
    "$\\large P(w_i|class)=\\frac{count(t_i, class) + 1}{(\\sum_{t \\in V}{count(t, class)}) + |V|}$"
   ]
  },
  {
   "cell_type": "code",
   "execution_count": 9,
   "id": "edfe2a67",
   "metadata": {},
   "outputs": [
    {
     "data": {
      "text/plain": [
       "35859"
      ]
     },
     "execution_count": 9,
     "metadata": {},
     "output_type": "execute_result"
    }
   ],
   "source": [
    "V = len(set(list(negative_class_count.keys()) + list(positive_class_count.keys())))\n",
    "V"
   ]
  },
  {
   "cell_type": "code",
   "execution_count": 10,
   "id": "790b535a",
   "metadata": {},
   "outputs": [],
   "source": [
    "def compute_probability(text, cls):\n",
    "    total_p = 1\n",
    "    preprocesse = preprocessing(text)\n",
    "    if cls:\n",
    "        for word in preprocesse:\n",
    "            if word in positive_class_count:\n",
    "                word_count = positive_class_count[word]\n",
    "            else:\n",
    "                word_count = 0\n",
    "            total = sum(positive_class_count.values())+V\n",
    "            total_p = total_p * ((word_count+1)/total)\n",
    "        total_p = total_p * prior_probability[1]\n",
    "    else:\n",
    "        for word in preprocesse:\n",
    "            if word in negative_class_count:\n",
    "                word_count = negative_class_count[word]\n",
    "            else:\n",
    "                word_count = 0\n",
    "            total = sum(negative_class_count.values())+V\n",
    "            total_p = total_p * ((word_count+1)/total)\n",
    "        total_p = total_p * prior_probability[0]\n",
    "        \n",
    "    return total_p"
   ]
  },
  {
   "cell_type": "code",
   "execution_count": 11,
   "id": "96687ae5",
   "metadata": {},
   "outputs": [],
   "source": [
    "def predict(test):\n",
    "    predictions = []\n",
    "    classes = [0,0]\n",
    "    for text in test :\n",
    "        classes[0] = compute_probability(text,0)\n",
    "        classes[1] = compute_probability(text,1)\n",
    "        predictions.append(classes.index(max(classes)))\n",
    "    return np.array(predictions)"
   ]
  },
  {
   "cell_type": "markdown",
   "id": "33da5d2a",
   "metadata": {},
   "source": [
    "<h2 align=center style=\"line-height:200%;font-family:vazir;color:#0099cc\">\n",
    "<font face=\"vazir\" color=\"#0099cc\">Evaluation\n",
    "</font>\n",
    "</h2>\n",
    "\n"
   ]
  },
  {
   "cell_type": "markdown",
   "id": "2fd78c6f",
   "metadata": {},
   "source": [
    "The criterion we chose to evaluate the model is called accuracy_score."
   ]
  },
  {
   "cell_type": "code",
   "execution_count": 12,
   "id": "cee1b883",
   "metadata": {},
   "outputs": [
    {
     "data": {
      "text/plain": [
       "0.896375"
      ]
     },
     "execution_count": 12,
     "metadata": {},
     "output_type": "execute_result"
    }
   ],
   "source": [
    "train_predictions = predict(train_data['comment'])\n",
    "accuracy_score(train_predictions, train_data['price_value']) "
   ]
  },
  {
   "attachments": {},
   "cell_type": "markdown",
   "id": "4e9984de",
   "metadata": {},
   "source": [
    "<h2 align=center style=\"line-height:200%;font-family:vazir;color:#0099cc\">\n",
    "<font face=\"vazir\" color=\"#0099cc\">\n",
    "Prediction for Test Data\n",
    "</font>\n",
    "</h2>\n"
   ]
  },
  {
   "cell_type": "code",
   "execution_count": 13,
   "id": "3d4a0844",
   "metadata": {},
   "outputs": [
    {
     "data": {
      "text/html": [
       "<div>\n",
       "<style scoped>\n",
       "    .dataframe tbody tr th:only-of-type {\n",
       "        vertical-align: middle;\n",
       "    }\n",
       "\n",
       "    .dataframe tbody tr th {\n",
       "        vertical-align: top;\n",
       "    }\n",
       "\n",
       "    .dataframe thead th {\n",
       "        text-align: right;\n",
       "    }\n",
       "</style>\n",
       "<table border=\"1\" class=\"dataframe\">\n",
       "  <thead>\n",
       "    <tr style=\"text-align: right;\">\n",
       "      <th></th>\n",
       "      <th>price_value</th>\n",
       "    </tr>\n",
       "  </thead>\n",
       "  <tbody>\n",
       "    <tr>\n",
       "      <th>0</th>\n",
       "      <td>1</td>\n",
       "    </tr>\n",
       "    <tr>\n",
       "      <th>1</th>\n",
       "      <td>1</td>\n",
       "    </tr>\n",
       "    <tr>\n",
       "      <th>2</th>\n",
       "      <td>1</td>\n",
       "    </tr>\n",
       "    <tr>\n",
       "      <th>3</th>\n",
       "      <td>0</td>\n",
       "    </tr>\n",
       "    <tr>\n",
       "      <th>4</th>\n",
       "      <td>1</td>\n",
       "    </tr>\n",
       "    <tr>\n",
       "      <th>...</th>\n",
       "      <td>...</td>\n",
       "    </tr>\n",
       "    <tr>\n",
       "      <th>7995</th>\n",
       "      <td>0</td>\n",
       "    </tr>\n",
       "    <tr>\n",
       "      <th>7996</th>\n",
       "      <td>1</td>\n",
       "    </tr>\n",
       "    <tr>\n",
       "      <th>7997</th>\n",
       "      <td>1</td>\n",
       "    </tr>\n",
       "    <tr>\n",
       "      <th>7998</th>\n",
       "      <td>0</td>\n",
       "    </tr>\n",
       "    <tr>\n",
       "      <th>7999</th>\n",
       "      <td>0</td>\n",
       "    </tr>\n",
       "  </tbody>\n",
       "</table>\n",
       "<p>8000 rows × 1 columns</p>\n",
       "</div>"
      ],
      "text/plain": [
       "      price_value\n",
       "0               1\n",
       "1               1\n",
       "2               1\n",
       "3               0\n",
       "4               1\n",
       "...           ...\n",
       "7995            0\n",
       "7996            1\n",
       "7997            1\n",
       "7998            0\n",
       "7999            0\n",
       "\n",
       "[8000 rows x 1 columns]"
      ]
     },
     "execution_count": 13,
     "metadata": {},
     "output_type": "execute_result"
    }
   ],
   "source": [
    "# predict test samples\n",
    "\n",
    "submission = predict(test_data['comment'])\n",
    "submission = pd.DataFrame(submission,columns=['price_value'])\n",
    "submission"
   ]
  },
  {
   "cell_type": "code",
   "execution_count": 14,
   "id": "2c2f8888",
   "metadata": {},
   "outputs": [],
   "source": [
    "submission.to_csv('submission.csv', index=False)"
   ]
  }
 ],
 "metadata": {
  "kernelspec": {
   "display_name": "qenv",
   "language": "python",
   "name": "qenv"
  },
  "language_info": {
   "codemirror_mode": {
    "name": "ipython",
    "version": 3
   },
   "file_extension": ".py",
   "mimetype": "text/x-python",
   "name": "python",
   "nbconvert_exporter": "python",
   "pygments_lexer": "ipython3",
   "version": "3.9.12"
  },
  "vscode": {
   "interpreter": {
    "hash": "ad2bdc8ecc057115af97d19610ffacc2b4e99fae6737bb82f5d7fb13d2f2c186"
   }
  }
 },
 "nbformat": 4,
 "nbformat_minor": 5
}
